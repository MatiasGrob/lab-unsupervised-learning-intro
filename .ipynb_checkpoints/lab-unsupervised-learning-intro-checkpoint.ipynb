{
 "cells": [
  {
   "cell_type": "code",
   "execution_count": 1,
   "id": "22f29561",
   "metadata": {},
   "outputs": [],
   "source": [
    "import spotipy\n",
    "from spotipy.oauth2 import SpotifyClientCredentials\n",
    "import pandas as pd\n",
    "from sklearn.preprocessing import StandardScaler\n",
    "\n",
    "from sklearn.cluster import KMeans\n",
    "from sklearn.metrics import silhouette_score\n",
    "from sklearn import datasets\n",
    "from matplotlib import pyplot as plt\n",
    "import numpy as np\n",
    "from sklearn.cluster import KMeans\n",
    "import sklearn\n",
    "from sklearn.metrics import pairwise_distances_argmin_min"
   ]
  },
  {
   "cell_type": "code",
   "execution_count": 2,
   "id": "39b9c5ef",
   "metadata": {},
   "outputs": [],
   "source": [
    "secrets_file = open(\"secrets.txt\",\"r\")"
   ]
  },
  {
   "cell_type": "code",
   "execution_count": 3,
   "id": "6ee935d8",
   "metadata": {},
   "outputs": [],
   "source": [
    "string = secrets_file.read()"
   ]
  },
  {
   "cell_type": "code",
   "execution_count": 4,
   "id": "c85a83ed",
   "metadata": {},
   "outputs": [
    {
     "data": {
      "text/plain": [
       "'clientid:30ba48f11c4347f0aa53053cf58e318a\\nclientsecret:74c98bc24a4c41fa9f0d89b6f86d216b'"
      ]
     },
     "execution_count": 4,
     "metadata": {},
     "output_type": "execute_result"
    }
   ],
   "source": [
    "string"
   ]
  },
  {
   "cell_type": "code",
   "execution_count": 5,
   "id": "5e333b71",
   "metadata": {},
   "outputs": [
    {
     "data": {
      "text/plain": [
       "['clientid:30ba48f11c4347f0aa53053cf58e318a',\n",
       " 'clientsecret:74c98bc24a4c41fa9f0d89b6f86d216b']"
      ]
     },
     "execution_count": 5,
     "metadata": {},
     "output_type": "execute_result"
    }
   ],
   "source": [
    "string.split('\\n')"
   ]
  },
  {
   "cell_type": "code",
   "execution_count": 6,
   "id": "0c81739e",
   "metadata": {},
   "outputs": [],
   "source": [
    "secrets_dict={}\n",
    "for line in string.split('\\n'):\n",
    "    if len(line) > 0:\n",
    "        secrets_dict[line.split(':')[0]]=line.split(':')[1]"
   ]
  },
  {
   "cell_type": "code",
   "execution_count": 7,
   "id": "da6f7c67",
   "metadata": {},
   "outputs": [
    {
     "data": {
      "text/plain": [
       "{'clientid': '30ba48f11c4347f0aa53053cf58e318a',\n",
       " 'clientsecret': '74c98bc24a4c41fa9f0d89b6f86d216b'}"
      ]
     },
     "execution_count": 7,
     "metadata": {},
     "output_type": "execute_result"
    }
   ],
   "source": [
    "secrets_dict"
   ]
  },
  {
   "cell_type": "code",
   "execution_count": 8,
   "id": "40a29694",
   "metadata": {},
   "outputs": [],
   "source": [
    "import spotipy\n",
    "from spotipy.oauth2 import SpotifyClientCredentials\n",
    "\n",
    "#Initialize SpotiPy with user credentials\n",
    "sp = spotipy.Spotify(auth_manager=SpotifyClientCredentials(client_id=secrets_dict['clientid'],\n",
    "                                                           client_secret=secrets_dict['clientsecret']))"
   ]
  },
  {
   "cell_type": "code",
   "execution_count": 9,
   "id": "2a2f106f",
   "metadata": {},
   "outputs": [],
   "source": [
    "#We pick our playlists\n",
    "fifties_playlist = \"37i9dQZF1DWSV3Tk4GO2fq\"\n",
    "sixties_playlist = \"3SbE5Sk5MWtNc0GRTU0X6d\"\n",
    "seventies_playlist = \"37i9dQZF1DX1Hya1sRqqxI\"\n",
    "eighties_playlist = \"37i9dQZF1DXb57FjYWz00c\"\n",
    "nineties_playlist = \"37i9dQZF1DXbTxeAdrVG2l\"\n",
    "twenties_playlist = \"37i9dQZF1DX4o1oenSJRJd\"\n",
    "twenty_tens_playlist = \"37i9dQZF1DX5Ejj0EkURtP\"\n",
    "twenty_twenties_playlist = \"4vSTV61efRmetmaoz95Vet\""
   ]
  },
  {
   "cell_type": "code",
   "execution_count": 10,
   "id": "74391612",
   "metadata": {},
   "outputs": [],
   "source": [
    "#code to pass the 1050 limit for the tracks got from the api\n",
    "\n",
    "def get_all_tracks(playlist):\n",
    "    results = sp.user_playlist_tracks(\"spotify\", playlist)\n",
    "    tracks = results['items']\n",
    "    for oset in range(1050,results['total'],1050):\n",
    "        results = sp.user_playlist_tracks(\"spotify\", playlist, offset=oset)\n",
    "        tracks += results['items']\n",
    "    return tracks\n",
    "\n",
    "all_tracks_50s = get_all_tracks(fifties_playlist)\n",
    "all_tracks_60s = get_all_tracks(sixties_playlist)\n",
    "all_tracks_70s = get_all_tracks(seventies_playlist)\n",
    "all_tracks_80s = get_all_tracks(eighties_playlist)\n",
    "all_tracks_90s = get_all_tracks(nineties_playlist)\n",
    "all_tracks_2000s = get_all_tracks(twenties_playlist)\n",
    "all_tracks_2010s = get_all_tracks(twenty_tens_playlist)\n",
    "all_tracks_2020s = get_all_tracks(twenty_twenties_playlist)"
   ]
  },
  {
   "cell_type": "code",
   "execution_count": 11,
   "id": "5071ee9e",
   "metadata": {},
   "outputs": [],
   "source": [
    "# Getting all the artists\n",
    "def get_artists_from_playlist(playlist_id, tracks):\n",
    "    tracks_from_playlist = tracks\n",
    "    artists = []\n",
    "    for track in tracks_from_playlist:\n",
    "        artist_info = track['track']['artists'][0]\n",
    "        artists.append(artist_info['name'])\n",
    "    return artists\n",
    "\n",
    "\n",
    "all_artists_50s = get_artists_from_playlist(fifties_playlist,all_tracks_50s)\n",
    "all_artists_60s = get_artists_from_playlist(sixties_playlist,all_tracks_60s)\n",
    "all_artists_70s = get_artists_from_playlist(seventies_playlist,all_tracks_70s)\n",
    "all_artists_80s = get_artists_from_playlist(eighties_playlist,all_tracks_80s)\n",
    "all_artists_90s = get_artists_from_playlist(nineties_playlist,all_tracks_90s)\n",
    "all_artists_2000s = get_artists_from_playlist(twenties_playlist,all_tracks_2000s)\n",
    "all_artists_2010s = get_artists_from_playlist(twenty_tens_playlist,all_tracks_2010s)\n",
    "all_artists_2020s = get_artists_from_playlist(twenty_twenties_playlist,all_tracks_2020s)\n",
    "\n"
   ]
  },
  {
   "cell_type": "code",
   "execution_count": 12,
   "id": "f56277e1",
   "metadata": {},
   "outputs": [],
   "source": [
    "#get song names & track ids\n",
    "def get_song_names(tracks):\n",
    "    song_actual_names = [track['track']['name'] for track in tracks]\n",
    "    track_ids = [track['track']['id'] for track in tracks]\n",
    "    return song_actual_names,track_ids\n",
    "\n",
    "all_song_names_50s,id_track_50s = get_song_names(all_tracks_50s)\n",
    "all_song_names_60s,id_track_60s = get_song_names(all_tracks_60s)\n",
    "all_song_names_70s,id_track_70s = get_song_names(all_tracks_70s)\n",
    "all_song_names_80s,id_track_80s = get_song_names(all_tracks_80s)\n",
    "all_song_names_90s,id_track_90s = get_song_names(all_tracks_90s)\n",
    "all_song_names_2000s,id_track_2000s = get_song_names(all_tracks_2000s)\n",
    "all_song_names_2010s,id_track_2010s = get_song_names(all_tracks_2010s)\n",
    "all_song_names_2020s,id_track_2020s = get_song_names(all_tracks_2020s)"
   ]
  },
  {
   "cell_type": "code",
   "execution_count": null,
   "id": "842bae1d",
   "metadata": {},
   "outputs": [],
   "source": [
    "#get all genres and popularity\n",
    "\n",
    "def get_pop_and_genre(tracks):\n",
    "    genre = []\n",
    "    popularity = []\n",
    "    for elem in tracks:\n",
    "        artist01 = sp.artist(elem['track'][\"album\"][\"artists\"][0][\"external_urls\"][\"spotify\"])\n",
    "        genre.append(artist01[\"genres\"][0] if artist01[\"genres\"] else \"genreless\")\n",
    "        popularity.append(artist01[\"popularity\"])\n",
    "    return genre,popularity\n",
    "\n",
    "genre_50s,popularity_50s = get_pop_and_genre(all_tracks_50s)\n",
    "genre_60s,popularity_60s = get_pop_and_genre(all_tracks_60s)\n",
    "genre_70s,popularity_70s = get_pop_and_genre(all_tracks_70s)\n",
    "genre_80s,popularity_80s = get_pop_and_genre(all_tracks_80s)\n",
    "genre_90s,popularity_90s = get_pop_and_genre(all_tracks_90s)\n",
    "genre_2000s,popularity_2000s = get_pop_and_genre(all_tracks_2000s)\n",
    "genre_2010s,popularity_2010s = get_pop_and_genre(all_tracks_2010s)\n",
    "genre_2020s,popularity_2020s = get_pop_and_genre(all_tracks_2020s)"
   ]
  },
  {
   "cell_type": "code",
   "execution_count": null,
   "id": "cc652d79",
   "metadata": {},
   "outputs": [],
   "source": [
    "#gathering main features and turning them into a dataframe\n",
    "def main_features_to_df(track_ids):\n",
    "    the_list = []\n",
    "    for i in track_ids:\n",
    "        the_list.append(sp.audio_features(i))\n",
    "    converted = [i for elem in the_list for i in elem]\n",
    "    df = pd.json_normalize(converted)\n",
    "    return df\n",
    "\n",
    "df_50s = main_features_to_df(id_track_50s)\n",
    "df_60s = main_features_to_df(id_track_60s)\n",
    "df_70s = main_features_to_df(id_track_70s)\n",
    "df_80s = main_features_to_df(id_track_80s)\n",
    "df_90s = main_features_to_df(id_track_90s)\n",
    "df_2000s = main_features_to_df(id_track_2000s)\n",
    "df_2010s = main_features_to_df(id_track_2010s)\n",
    "df_2020s = main_features_to_df(id_track_2020s)"
   ]
  },
  {
   "cell_type": "code",
   "execution_count": null,
   "id": "00083d2e",
   "metadata": {},
   "outputs": [],
   "source": [
    "# adding previous single gathered features to the current df\n",
    "def add_features_to_df(song_actual_names,artist_list,genre,popularity,features_df):\n",
    "    \n",
    "    df_song_name = pd.DataFrame(song_actual_names, columns = [\"song_name\"])\n",
    "    df_artists = pd.DataFrame(artist_list,columns = [\"artists\"])\n",
    "    df_genre = pd.DataFrame(genre,columns = [\"genre\"])\n",
    "    df_popularity = pd.DataFrame(popularity,columns = [\"popularity\"])\n",
    "    final_boss_df = pd.concat([features_df, df_song_name,df_artists,df_genre,df_popularity], axis=1)\n",
    "    \n",
    "    return final_boss_df\n",
    "\n",
    "final_df_50s = add_features_to_df(all_song_names_50s,all_artists_50s,genre_50s,popularity_50s,df_50s)\n",
    "final_df_60s = add_features_to_df(all_song_names_60s,all_artists_60s,genre_60s,popularity_60s,df_60s)\n",
    "final_df_70s = add_features_to_df(all_song_names_70s,all_artists_70s,genre_70s,popularity_70s,df_70s)\n",
    "final_df_80s = add_features_to_df(all_song_names_80s,all_artists_80s,genre_80s,popularity_80s,df_80s)\n",
    "final_df_90s = add_features_to_df(all_song_names_90s,all_artists_90s,genre_90s,popularity_90s,df_90s)\n",
    "final_df_2000s = add_features_to_df(all_song_names_2000s,all_artists_2000s,genre_2000s,popularity_2000s,df_2000s)\n",
    "final_df_2010s = add_features_to_df(all_song_names_2010s,all_artists_2010s,genre_2010s,popularity_2010s,df_2010s)\n",
    "final_df_2020s = add_features_to_df(all_song_names_2020s,all_artists_2020s,genre_2020s,popularity_2020s,df_2020s)"
   ]
  },
  {
   "cell_type": "code",
   "execution_count": null,
   "id": "b5157ff6",
   "metadata": {},
   "outputs": [],
   "source": [
    "#Treating the dataframe:\n",
    "scaler = StandardScaler()\n",
    "def scaling_df(current_df):\n",
    "    df_to_scale = current_df[['danceability', 'energy', 'key', 'loudness', 'mode', 'speechiness', 'acousticness', 'instrumentalness', 'liveness', 'valence', 'tempo','popularity']]\n",
    "    scaled_df02 = scaler.fit_transform(df_to_scale)\n",
    "    scaled_df01 = pd.DataFrame(scaled_df02)\n",
    "    scaled_df = scaled_df01.copy()\n",
    "    scaled_df.columns = df_to_scale.columns\n",
    "    scaled_df[\"song_name\"] = current_df[\"song_name\"]\n",
    "    scaled_df[\"artists\"] = current_df[\"artists\"]\n",
    "    scaled_df[\"genre\"] = current_df[\"genre\"]\n",
    "    scaled_df\n",
    "    return scaled_df01,scaled_df\n",
    "\n",
    "df_to_scale_50s,scaled_df_50s = scaling_df(final_df_50s)\n",
    "df_to_scale_60s,scaled_df_60s = scaling_df(final_df_60s)\n",
    "df_to_scale_70s,scaled_df_70s = scaling_df(final_df_70s)\n",
    "df_to_scale_80s,scaled_df_80s = scaling_df(final_df_80s)\n",
    "df_to_scale_90s,scaled_df_90s = scaling_df(final_df_90s)\n",
    "df_to_scale_2000s,scaled_df_2000s = scaling_df(final_df_2000s)\n",
    "df_to_scale_2010s,scaled_df_2010s = scaling_df(final_df_2010s)\n",
    "df_to_scale_2020s,scaled_df_2020s = scaling_df(final_df_2020s)"
   ]
  },
  {
   "cell_type": "code",
   "execution_count": null,
   "id": "f2f32aa4",
   "metadata": {},
   "outputs": [],
   "source": [
    "scaled_complete_frames = [scaled_df_50s,scaled_df_60s,scaled_df_70s,scaled_df_80s,scaled_df_90s,scaled_df_2000s,scaled_df_2010s,scaled_df_2020s]\n",
    "\n",
    "all_frames = pd.concat(scaled_complete_frames)\n",
    "all_frames.head()"
   ]
  },
  {
   "cell_type": "code",
   "execution_count": null,
   "id": "f94ab1cf",
   "metadata": {},
   "outputs": [],
   "source": [
    "scaled_numerical_frames = [df_to_scale_50s,df_to_scale_60s,df_to_scale_70s,df_to_scale_80s,df_to_scale_90s,df_to_scale_2000s,df_to_scale_2010s,df_to_scale_2020s]\n",
    "Numerical_all_frames = pd.concat(scaled_numerical_frames)"
   ]
  },
  {
   "cell_type": "code",
   "execution_count": null,
   "id": "749239bb",
   "metadata": {},
   "outputs": [],
   "source": [
    "Numerical_all_frames"
   ]
  },
  {
   "cell_type": "code",
   "execution_count": null,
   "id": "c76f36ad",
   "metadata": {},
   "outputs": [],
   "source": [
    "#applying inertia to see how many clusters is a good number to apply\n",
    "\n",
    "K = range(2, 20)\n",
    "\n",
    "silhouette = []\n",
    "\n",
    "for k in K:\n",
    "    kmeans = KMeans(n_clusters=k, random_state=42)\n",
    "    kmeans.fit(Numerical_all_frames)\n",
    "    silhouette.append(silhouette_score(Numerical_all_frames, kmeans.predict(Numerical_all_frames)))\n",
    "\n",
    "\n",
    "plt.figure(figsize=(16,8))\n",
    "plt.plot(K, silhouette, 'bx-')\n",
    "plt.xlabel('k')\n",
    "plt.ylabel('silhouette score')\n",
    "plt.xticks(np.arange(min(K), max(K)+1, 1.0))\n",
    "plt.title('Elbow Method showing the optimal k')\n",
    "plt.show()"
   ]
  },
  {
   "cell_type": "code",
   "execution_count": null,
   "id": "0373b290",
   "metadata": {},
   "outputs": [],
   "source": [
    "#applying the clustering\n",
    "\n",
    "kmeans = KMeans(n_clusters=7, random_state=42)\n",
    "kmeans.fit(Numerical_all_frames)"
   ]
  },
  {
   "cell_type": "code",
   "execution_count": null,
   "id": "b5a13fc4",
   "metadata": {},
   "outputs": [],
   "source": [
    "# Predicting / assigning the clusters:\n",
    "clusters = kmeans.predict(Numerical_all_frames)\n",
    "clusters"
   ]
  },
  {
   "cell_type": "code",
   "execution_count": null,
   "id": "e87d8e7c",
   "metadata": {},
   "outputs": [],
   "source": [
    "#assigning the clusters to the main final df\n",
    "all_frames[\"clusters\"] = clusters"
   ]
  },
  {
   "cell_type": "code",
   "execution_count": null,
   "id": "d987b179",
   "metadata": {},
   "outputs": [],
   "source": [
    "# Check the size of the clusters\n",
    "pd.Series(clusters).value_counts().sort_index()"
   ]
  },
  {
   "cell_type": "code",
   "execution_count": null,
   "id": "cb3ca4ff",
   "metadata": {},
   "outputs": [],
   "source": [
    "all_frames.groupby(['clusters','genre'], as_index=False).count().sort_values(['clusters', 'key'], ascending=[True, False])[['genre', 'clusters', 'key']].reset_index(drop=True).groupby([\"clusters\"]).head(3)\n"
   ]
  },
  {
   "cell_type": "code",
   "execution_count": null,
   "id": "1e7f76d0",
   "metadata": {},
   "outputs": [],
   "source": [
    "all_frames = all_frames.reset_index(drop=True)"
   ]
  },
  {
   "cell_type": "code",
   "execution_count": null,
   "id": "7980a47e",
   "metadata": {},
   "outputs": [],
   "source": [
    "all_frames"
   ]
  },
  {
   "cell_type": "code",
   "execution_count": null,
   "id": "77500e03",
   "metadata": {},
   "outputs": [],
   "source": [
    "#getting song and recomending song \n",
    "def recomend_song():\n",
    "    song_name = input(\"Choose a song: \")\n",
    "    results = sp.search(q=f'track:{song_name}', limit=1)\n",
    "    track_id = results['tracks']['items'][0]['id'] if results['tracks']['items'] else None\n",
    "    while not track_id:\n",
    "        return recomend_song()\n",
    "    \n",
    "    # get song features with the obtained id\n",
    "    audio_features = sp.audio_features(track_id)\n",
    "    \n",
    "    #get song popularity and genre\n",
    "    song_pop_genre = sp.artist(results['tracks'][\"items\"][0][\"album\"][\"artists\"][0][\"external_urls\"][\"spotify\"])\n",
    "    the_genre = song_pop_genre[\"genres\"][0] if song_pop_genre[\"genres\"] else \"generless\"\n",
    "    the_pop = song_pop_genre[\"popularity\"]\n",
    "    \n",
    "    #create the df\n",
    "    df_uni_song = pd.DataFrame(audio_features)\n",
    "    df_uni_song[\"popularity\"] = the_pop\n",
    "    \n",
    "    #merge the datas\n",
    "    new_features = df_uni_song[['danceability', 'energy', 'key', 'loudness', 'mode', 'speechiness', 'acousticness', 'instrumentalness', 'liveness', 'valence', 'tempo','popularity']]\n",
    "    df_uni_song[\"genre\"] = the_genre\n",
    "    \n",
    "    #scale features\n",
    "    #scaler = StandardScaler()\n",
    "    scaled_x = scaler.transform(new_features)\n",
    "    \n",
    "    # predict cluster\n",
    "    cluster = kmeans.predict(scaled_x)\n",
    "    \n",
    "    # filter dataset to predicted cluster\n",
    "    filtered_df = all_frames[all_frames['clusters'] == cluster[0]][new_features.columns]\n",
    "    \n",
    "    # get closest song from filtered dataset\n",
    "    closest, _ = pairwise_distances_argmin_min(scaled_x, filtered_df)\n",
    "    \n",
    "    # return it in a readable way\n",
    "    print('\\n [RECOMMENDED SONG]')\n",
    "    return ' - '.join([all_frames.loc[closest]['song_name'].values[0], all_frames.loc[closest]['artists'].values[0]])\n"
   ]
  },
  {
   "cell_type": "code",
   "execution_count": null,
   "id": "eaf3d32b",
   "metadata": {},
   "outputs": [],
   "source": [
    "recomend_song()"
   ]
  },
  {
   "cell_type": "code",
   "execution_count": null,
   "id": "57f1f2e6",
   "metadata": {},
   "outputs": [],
   "source": []
  }
 ],
 "metadata": {
  "kernelspec": {
   "display_name": "Python 3 (ipykernel)",
   "language": "python",
   "name": "python3"
  },
  "language_info": {
   "codemirror_mode": {
    "name": "ipython",
    "version": 3
   },
   "file_extension": ".py",
   "mimetype": "text/x-python",
   "name": "python",
   "nbconvert_exporter": "python",
   "pygments_lexer": "ipython3",
   "version": "3.9.13"
  }
 },
 "nbformat": 4,
 "nbformat_minor": 5
}
